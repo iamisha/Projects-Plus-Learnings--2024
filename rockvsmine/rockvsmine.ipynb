{
  "cells": [
    {
      "cell_type": "markdown",
      "metadata": {
        "colab_type": "text",
        "id": "view-in-github"
      },
      "source": [
        "<a href=\"https://colab.research.google.com/github/iamisha/Python-Project-2024/blob/branch-test/rockvsmine.ipynb\" target=\"_parent\"><img src=\"https://colab.research.google.com/assets/colab-badge.svg\" alt=\"Open In Colab\"/></a>"
      ]
    },
    {
      "cell_type": "markdown",
      "metadata": {
        "id": "B3gDbs2WQQqP"
      },
      "source": [
        "Importing the Dependencies\n"
      ]
    },
    {
      "cell_type": "code",
      "execution_count": 6,
      "metadata": {
        "id": "jvJuhKfgNHIr"
      },
      "outputs": [
        {
          "ename": "ModuleNotFoundError",
          "evalue": "No module named 'numpy'",
          "output_type": "error",
          "traceback": [
            "\u001b[0;31m---------------------------------------------------------------------------\u001b[0m",
            "\u001b[0;31mModuleNotFoundError\u001b[0m                       Traceback (most recent call last)",
            "Cell \u001b[0;32mIn[6], line 1\u001b[0m\n\u001b[0;32m----> 1\u001b[0m \u001b[38;5;28;01mimport\u001b[39;00m \u001b[38;5;21;01mnumpy\u001b[39;00m \u001b[38;5;28;01mas\u001b[39;00m \u001b[38;5;21;01mnp\u001b[39;00m\n\u001b[1;32m      2\u001b[0m \u001b[38;5;28;01mimport\u001b[39;00m \u001b[38;5;21;01mpandas\u001b[39;00m \u001b[38;5;28;01mas\u001b[39;00m \u001b[38;5;21;01mpd\u001b[39;00m\n\u001b[1;32m      3\u001b[0m \u001b[38;5;28;01mfrom\u001b[39;00m \u001b[38;5;21;01msklearn\u001b[39;00m\u001b[38;5;21;01m.\u001b[39;00m\u001b[38;5;21;01mmodel_selection\u001b[39;00m \u001b[38;5;28;01mimport\u001b[39;00m train_test_split\n",
            "\u001b[0;31mModuleNotFoundError\u001b[0m: No module named 'numpy'"
          ]
        }
      ],
      "source": [
        "import numpy as np\n",
        "import pandas as pd\n",
        "from sklearn.model_selection import train_test_split\n",
        "from sklearn.linear_model import LogisticRegression\n",
        "from sklearn.metrics import accuracy_score"
      ]
    },
    {
      "cell_type": "markdown",
      "metadata": {
        "id": "rcUEgNUuRPlx"
      },
      "source": [
        "Data Collection and Data Processing"
      ]
    },
    {
      "cell_type": "code",
      "execution_count": null,
      "metadata": {
        "id": "VTWWxLIIQ-4e"
      },
      "outputs": [],
      "source": [
        "# loading the dataset to pandas dataframe\n",
        "sonar_data = pd.read_csv('/content/sonar data.csv',header=None)"
      ]
    },
    {
      "cell_type": "code",
      "execution_count": null,
      "metadata": {
        "id": "UtoWn_kERw5t"
      },
      "outputs": [],
      "source": [
        "sonar_data.head()"
      ]
    },
    {
      "cell_type": "code",
      "execution_count": null,
      "metadata": {
        "id": "SsSKs5cfR2xh"
      },
      "outputs": [],
      "source": [
        "# number of rows and columns\n",
        "sonar_data.shape"
      ]
    },
    {
      "cell_type": "code",
      "execution_count": null,
      "metadata": {
        "id": "dar4GIZsTS6L"
      },
      "outputs": [],
      "source": [
        "sonar_data.describe() # describe --> statistical measures of the data"
      ]
    },
    {
      "cell_type": "code",
      "execution_count": null,
      "metadata": {
        "id": "JANUEa5nTsaE"
      },
      "outputs": [],
      "source": [
        "sonar_data[60].value_counts()"
      ]
    },
    {
      "cell_type": "markdown",
      "metadata": {
        "id": "W6To7uPoUehx"
      },
      "source": [
        "M --> Mine\n",
        "\n",
        "R --> Rock"
      ]
    },
    {
      "cell_type": "code",
      "execution_count": null,
      "metadata": {
        "id": "Dt0eDQkEUQSU"
      },
      "outputs": [],
      "source": [
        "sonar_data.groupby(60).mean()"
      ]
    },
    {
      "cell_type": "code",
      "execution_count": null,
      "metadata": {
        "id": "vqn6to_dUm1b"
      },
      "outputs": [],
      "source": [
        "# separating data and labels\n",
        "X = sonar_data.drop(columns=60,axis=1)\n",
        "Y = sonar_data[60]"
      ]
    },
    {
      "cell_type": "code",
      "execution_count": null,
      "metadata": {
        "id": "K6Kh62O_XVGw"
      },
      "outputs": [],
      "source": [
        "print(X)\n",
        "print(Y)"
      ]
    },
    {
      "cell_type": "markdown",
      "metadata": {
        "id": "wlx5eglfX768"
      },
      "source": [
        "Training and Test data"
      ]
    },
    {
      "cell_type": "code",
      "execution_count": null,
      "metadata": {
        "id": "kptht4HhXZx2"
      },
      "outputs": [],
      "source": [
        "X_train, X_test, Y_train, Y_test = train_test_split(X,Y,test_size = 0.1, stratify =Y, random_state=1)"
      ]
    },
    {
      "cell_type": "code",
      "execution_count": null,
      "metadata": {
        "id": "FqdKXKpmZpzG"
      },
      "outputs": [],
      "source": [
        "print(X.shape, X_train.shape, X_test.shape)"
      ]
    },
    {
      "cell_type": "code",
      "execution_count": null,
      "metadata": {
        "id": "CbVi011iel_w"
      },
      "outputs": [],
      "source": [
        "print(X_train)\n",
        "print(Y_train)"
      ]
    },
    {
      "cell_type": "markdown",
      "metadata": {
        "id": "JnlMij3waAbT"
      },
      "source": [
        "Model Training --> Logistic Regression"
      ]
    },
    {
      "cell_type": "code",
      "execution_count": null,
      "metadata": {
        "id": "RkfLfMIiZxry"
      },
      "outputs": [],
      "source": [
        "model = LogisticRegression()"
      ]
    },
    {
      "cell_type": "code",
      "execution_count": null,
      "metadata": {
        "id": "MrdCNImbaGHY"
      },
      "outputs": [],
      "source": [
        "# training the logistic Regression model with training data\n",
        "model.fit(X_train, Y_train)"
      ]
    },
    {
      "cell_type": "markdown",
      "metadata": {
        "id": "EvsoNpHjoW4p"
      },
      "source": [
        "Model Evaluation"
      ]
    },
    {
      "cell_type": "code",
      "execution_count": null,
      "metadata": {
        "id": "Azqf5Ei4e890"
      },
      "outputs": [],
      "source": [
        "# accuracy on training data\n",
        "X_train_prediction = model.predict(X_train)\n",
        "training_data_accuracy = accuracy_score(X_train_prediction, Y_train)"
      ]
    },
    {
      "cell_type": "code",
      "execution_count": null,
      "metadata": {
        "id": "u1M1RU4ppXtH"
      },
      "outputs": [],
      "source": [
        "print('Accuracy on training data', training_data_accuracy)"
      ]
    },
    {
      "cell_type": "code",
      "execution_count": null,
      "metadata": {
        "id": "ZUPqWtokpdRf"
      },
      "outputs": [],
      "source": [
        "# accuracy on testing data\n",
        "X_test_prediction = model.predict(X_test)\n",
        "testing_data_accuracy = accuracy_score(X_test_prediction, Y_test)"
      ]
    },
    {
      "cell_type": "code",
      "execution_count": null,
      "metadata": {
        "id": "oNAsOHpxp1V5"
      },
      "outputs": [],
      "source": [
        "print('Accuracy on testing data', testing_data_accuracy)"
      ]
    },
    {
      "cell_type": "markdown",
      "metadata": {
        "id": "6mlhhs0Pr5e0"
      },
      "source": [
        "Make a predictive system"
      ]
    },
    {
      "cell_type": "code",
      "execution_count": 1,
      "metadata": {
        "id": "77SzDl2Tp909"
      },
      "outputs": [
        {
          "ename": "NameError",
          "evalue": "name 'np' is not defined",
          "output_type": "error",
          "traceback": [
            "\u001b[0;31m---------------------------------------------------------------------------\u001b[0m",
            "\u001b[0;31mNameError\u001b[0m                                 Traceback (most recent call last)",
            "Cell \u001b[0;32mIn[1], line 4\u001b[0m\n\u001b[1;32m      1\u001b[0m input_data \u001b[38;5;241m=\u001b[39m (\u001b[38;5;241m0.0394\u001b[39m,\u001b[38;5;241m0.042\u001b[39m,\u001b[38;5;241m0.0446\u001b[39m,\u001b[38;5;241m0.0551\u001b[39m,\u001b[38;5;241m0.0597\u001b[39m,\u001b[38;5;241m0.1416\u001b[39m,\u001b[38;5;241m0.0956\u001b[39m,\u001b[38;5;241m0.0802\u001b[39m,\u001b[38;5;241m0.1618\u001b[39m,\u001b[38;5;241m0.2558\u001b[39m,\t\u001b[38;5;241m0.3078\u001b[39m,\u001b[38;5;241m0.3404\u001b[39m,\t\u001b[38;5;241m0.355\u001b[39m,\u001b[38;5;241m0.3951\u001b[39m,\t\u001b[38;5;241m0.3352\u001b[39m,\t\u001b[38;5;241m0.2252\u001b[39m,\t\u001b[38;5;241m0.2086\u001b[39m,\t\u001b[38;5;241m0.2248\u001b[39m,\t\u001b[38;5;241m0.3382\u001b[39m,\t\u001b[38;5;241m0.4578\u001b[39m,\t\u001b[38;5;241m0.6474\u001b[39m,\t\u001b[38;5;241m0.6708\u001b[39m,\t\u001b[38;5;241m0.7007\u001b[39m,\t\u001b[38;5;241m0.7619\u001b[39m,\t\u001b[38;5;241m0.7745\u001b[39m,\t\u001b[38;5;241m0.6767\u001b[39m,\t\u001b[38;5;241m0.7373\u001b[39m,\t\u001b[38;5;241m0.7834\u001b[39m,\t\u001b[38;5;241m0.9619\u001b[39m,\t\u001b[38;5;241m1\u001b[39m,\t\u001b[38;5;241m0.8086\u001b[39m,\t\u001b[38;5;241m0.5558\u001b[39m,\t\u001b[38;5;241m0.5409\u001b[39m,\t\u001b[38;5;241m0.4988\u001b[39m,\t\u001b[38;5;241m0.3108\u001b[39m,\t\u001b[38;5;241m0.2897\u001b[39m,\t\u001b[38;5;241m0.2244\u001b[39m,\t\u001b[38;5;241m0.096\u001b[39m,\t\u001b[38;5;241m0.2287\u001b[39m,\t\u001b[38;5;241m0.3228\u001b[39m,\t\u001b[38;5;241m0.3454\u001b[39m,\t\u001b[38;5;241m0.3882\u001b[39m,\t\u001b[38;5;241m0.324\u001b[39m,\t\u001b[38;5;241m0.0926\u001b[39m,\t\u001b[38;5;241m0.1173\u001b[39m,\t\u001b[38;5;241m0.0566\u001b[39m,\t\u001b[38;5;241m0.0766\u001b[39m,\t\u001b[38;5;241m0.0969\u001b[39m,\t\u001b[38;5;241m0.0588\u001b[39m,\t\u001b[38;5;241m0.005\u001b[39m,\t\u001b[38;5;241m0.0118\u001b[39m,\t\u001b[38;5;241m0.0146\u001b[39m,\t\u001b[38;5;241m0.004\u001b[39m,\t\u001b[38;5;241m0.0114\u001b[39m,\t\u001b[38;5;241m0.0032\u001b[39m,\t\u001b[38;5;241m0.0062\u001b[39m,\t\u001b[38;5;241m0.0101\u001b[39m,\t\u001b[38;5;241m0.0068\u001b[39m,\t\u001b[38;5;241m0.0053\u001b[39m,\t\u001b[38;5;241m0.0087\u001b[39m)\n\u001b[1;32m      3\u001b[0m \u001b[38;5;66;03m# changing the input_data to a numpy array\u001b[39;00m\n\u001b[0;32m----> 4\u001b[0m input_data_as_numpy_array \u001b[38;5;241m=\u001b[39m \u001b[43mnp\u001b[49m\u001b[38;5;241m.\u001b[39masarray(input_data)\n\u001b[1;32m      7\u001b[0m \u001b[38;5;66;03m# reshape the np array as we are predicting for one instance\u001b[39;00m\n\u001b[1;32m      8\u001b[0m input_data_reshaped \u001b[38;5;241m=\u001b[39m input_data_as_numpy_array\u001b[38;5;241m.\u001b[39mreshape(\u001b[38;5;241m1\u001b[39m, \u001b[38;5;241m-\u001b[39m\u001b[38;5;241m1\u001b[39m)\n",
            "\u001b[0;31mNameError\u001b[0m: name 'np' is not defined"
          ]
        }
      ],
      "source": [
        "input_data = (0.0394,0.042,0.0446,0.0551,0.0597,0.1416,0.0956,0.0802,0.1618,0.2558,\t0.3078,0.3404,\t0.355,0.3951,\t0.3352,\t0.2252,\t0.2086,\t0.2248,\t0.3382,\t0.4578,\t0.6474,\t0.6708,\t0.7007,\t0.7619,\t0.7745,\t0.6767,\t0.7373,\t0.7834,\t0.9619,\t1,\t0.8086,\t0.5558,\t0.5409,\t0.4988,\t0.3108,\t0.2897,\t0.2244,\t0.096,\t0.2287,\t0.3228,\t0.3454,\t0.3882,\t0.324,\t0.0926,\t0.1173,\t0.0566,\t0.0766,\t0.0969,\t0.0588,\t0.005,\t0.0118,\t0.0146,\t0.004,\t0.0114,\t0.0032,\t0.0062,\t0.0101,\t0.0068,\t0.0053,\t0.0087)\n",
        "\n",
        "# changing the input_data to a numpy array\n",
        "input_data_as_numpy_array = np.asarray(input_data)\n",
        "\n",
        "\n",
        "# reshape the np array as we are predicting for one instance\n",
        "input_data_reshaped = input_data_as_numpy_array.reshape(1, -1)\n",
        "\n",
        "prediction = model.predict(input_data_reshaped)\n",
        "print(prediction)\n",
        "\n",
        "if (prediction[0] == 'R'):\n",
        "  print('The object is a Rock')\n",
        "else:\n",
        "  print('The object is a mine')"
      ]
    },
    {
      "cell_type": "code",
      "execution_count": null,
      "metadata": {
        "id": "dcZS-HK9r_ty"
      },
      "outputs": [],
      "source": []
    }
  ],
  "metadata": {
    "colab": {
      "authorship_tag": "ABX9TyOCnYmsexJXueLgI6skfz0i",
      "include_colab_link": true,
      "private_outputs": true,
      "provenance": []
    },
    "kernelspec": {
      "display_name": "Python 3",
      "name": "python3"
    },
    "language_info": {
      "codemirror_mode": {
        "name": "ipython",
        "version": 3
      },
      "file_extension": ".py",
      "mimetype": "text/x-python",
      "name": "python",
      "nbconvert_exporter": "python",
      "pygments_lexer": "ipython3",
      "version": "3.10.12"
    }
  },
  "nbformat": 4,
  "nbformat_minor": 0
}
