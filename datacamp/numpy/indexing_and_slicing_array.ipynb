{
  "nbformat": 4,
  "nbformat_minor": 0,
  "metadata": {
    "colab": {
      "provenance": []
    },
    "kernelspec": {
      "name": "python3",
      "display_name": "Python 3"
    },
    "language_info": {
      "name": "python"
    }
  },
  "cells": [
    {
      "cell_type": "code",
      "source": [
        "import numpy as np"
      ],
      "metadata": {
        "id": "4Xi4Oi7i7L74"
      },
      "execution_count": 4,
      "outputs": []
    },
    {
      "cell_type": "markdown",
      "source": [
        "**Indexing 1D arrays**"
      ],
      "metadata": {
        "id": "c0LS9wrT686V"
      }
    },
    {
      "cell_type": "code",
      "execution_count": 5,
      "metadata": {
        "colab": {
          "base_uri": "https://localhost:8080/"
        },
        "id": "v8b2N4j26nDX",
        "outputId": "c53f887b-5885-4e88-ad8f-b32f8e07a25a"
      },
      "outputs": [
        {
          "output_type": "execute_result",
          "data": {
            "text/plain": [
              "8"
            ]
          },
          "metadata": {},
          "execution_count": 5
        }
      ],
      "source": [
        "array = np.array([2,4,6,8,10])\n",
        "array[3]"
      ]
    },
    {
      "cell_type": "markdown",
      "source": [
        "**Indexing elements in 2D**\n"
      ],
      "metadata": {
        "id": "CZIpYJEp8-lS"
      }
    },
    {
      "cell_type": "code",
      "source": [
        "\n",
        "# Create an empty Sudoku grid\n",
        "sudoku_game = np.zeros((9, 9), dtype=int)\n",
        "\n",
        "# Fill in some initial values (example)\n",
        "sudoku_game[0, 1] = 5\n",
        "sudoku_game[0, 7] = 3\n",
        "sudoku_game[1, 2] = 9\n",
        "# Fill in more values as needed...\n",
        "\n",
        "# Print the Sudoku grid\n",
        "print(sudoku_game)\n",
        "\n",
        "\n",
        "# indexing elements in 2D\n",
        "sudoku_game[1,2]\n"
      ],
      "metadata": {
        "colab": {
          "base_uri": "https://localhost:8080/"
        },
        "id": "ibbrqIAN9B3Q",
        "outputId": "5c99d67d-4f82-4822-c583-b1bed86b5f4a"
      },
      "execution_count": 7,
      "outputs": [
        {
          "output_type": "stream",
          "name": "stdout",
          "text": [
            "[[0 5 0 0 0 0 0 3 0]\n",
            " [0 0 9 0 0 0 0 0 0]\n",
            " [0 0 0 0 0 0 0 0 0]\n",
            " [0 0 0 0 0 0 0 0 0]\n",
            " [0 0 0 0 0 0 0 0 0]\n",
            " [0 0 0 0 0 0 0 0 0]\n",
            " [0 0 0 0 0 0 0 0 0]\n",
            " [0 0 0 0 0 0 0 0 0]\n",
            " [0 0 0 0 0 0 0 0 0]]\n"
          ]
        },
        {
          "output_type": "execute_result",
          "data": {
            "text/plain": [
              "9"
            ]
          },
          "metadata": {},
          "execution_count": 7
        }
      ]
    },
    {
      "cell_type": "markdown",
      "source": [
        "**Indexing rows in 2D**\n",
        "\n",
        "If we give NumPy just one index when indexing a 2D array, it assumes that the index is a row index"
      ],
      "metadata": {
        "id": "WmxxyL9W-bGE"
      }
    },
    {
      "cell_type": "code",
      "source": [
        "sudoku_game[1]"
      ],
      "metadata": {
        "colab": {
          "base_uri": "https://localhost:8080/"
        },
        "id": "FbrJSjQB9we4",
        "outputId": "e8b2c7eb-39c6-40a3-af8c-b5917de7cfdf"
      },
      "execution_count": 9,
      "outputs": [
        {
          "output_type": "execute_result",
          "data": {
            "text/plain": [
              "array([0, 0, 9, 0, 0, 0, 0, 0, 0])"
            ]
          },
          "metadata": {},
          "execution_count": 9
        }
      ]
    },
    {
      "cell_type": "markdown",
      "source": [
        "**Indexing columns in 2D**"
      ],
      "metadata": {
        "id": "adgN4eA_-xiD"
      }
    },
    {
      "cell_type": "code",
      "source": [
        "sudoku_game[:,1]"
      ],
      "metadata": {
        "colab": {
          "base_uri": "https://localhost:8080/"
        },
        "id": "15N_72Vh-jYF",
        "outputId": "81e6aaee-a471-4c88-b350-4c2f8e359a91"
      },
      "execution_count": 11,
      "outputs": [
        {
          "output_type": "execute_result",
          "data": {
            "text/plain": [
              "array([5, 0, 0, 0, 0, 0, 0, 0, 0])"
            ]
          },
          "metadata": {},
          "execution_count": 11
        }
      ]
    },
    {
      "cell_type": "markdown",
      "source": [
        "**Slicing 1D array**"
      ],
      "metadata": {
        "id": "unBqIr8M_fSP"
      }
    },
    {
      "cell_type": "code",
      "source": [
        "array = np.array([2,4,5,8,10])\n",
        "array[2:4]"
      ],
      "metadata": {
        "colab": {
          "base_uri": "https://localhost:8080/"
        },
        "id": "RJVSkj27-6Fa",
        "outputId": "2a8ec1b7-e6fd-42b5-dc0c-79f7dbb22d5d"
      },
      "execution_count": 12,
      "outputs": [
        {
          "output_type": "execute_result",
          "data": {
            "text/plain": [
              "array([5, 8])"
            ]
          },
          "metadata": {},
          "execution_count": 12
        }
      ]
    },
    {
      "cell_type": "markdown",
      "source": [
        "**Slicing elements in 2D**"
      ],
      "metadata": {
        "id": "LxPGSLwYBRS6"
      }
    },
    {
      "cell_type": "code",
      "source": [
        "\n",
        "# Create an empty Sudoku grid\n",
        "sudoku_game = np.zeros((9, 9), dtype=int)\n",
        "\n",
        "# Fill in some initial values (example)\n",
        "sudoku_game[0, 1] = 5\n",
        "sudoku_game[0, 7] = 3\n",
        "sudoku_game[1, 2] = 9\n",
        "sudoku_game[0, 3] = 8\n",
        "sudoku_game[2, 7] = 9\n",
        "sudoku_game[5, 2] = 3\n",
        "sudoku_game[2, 1] = 11\n",
        "sudoku_game[2, 7] = 3\n",
        "sudoku_game[1, 2] = 9\n",
        "# Fill in more values as needed...\n",
        "\n",
        "# Print the Sudoku grid\n",
        "print(sudoku_game)\n",
        "\n",
        "\n",
        "# slicing elements in 2D\n",
        "sudoku_game[0:3, 0:3]"
      ],
      "metadata": {
        "colab": {
          "base_uri": "https://localhost:8080/"
        },
        "id": "S59sfeBg_nT-",
        "outputId": "cddcb7b3-15f9-4ef7-b1cc-ad3d96bb7bc1"
      },
      "execution_count": 23,
      "outputs": [
        {
          "output_type": "stream",
          "name": "stdout",
          "text": [
            "[[ 0  5  0  8  0  0  0  3  0]\n",
            " [ 0  0  9  0  0  0  0  0  0]\n",
            " [ 0 11  0  0  0  0  0  3  0]\n",
            " [ 0  0  0  0  0  0  0  0  0]\n",
            " [ 0  0  0  0  0  0  0  0  0]\n",
            " [ 0  0  3  0  0  0  0  0  0]\n",
            " [ 0  0  0  0  0  0  0  0  0]\n",
            " [ 0  0  0  0  0  0  0  0  0]\n",
            " [ 0  0  0  0  0  0  0  0  0]]\n"
          ]
        },
        {
          "output_type": "execute_result",
          "data": {
            "text/plain": [
              "array([[ 0,  5,  0],\n",
              "       [ 0,  0,  9],\n",
              "       [ 0, 11,  0]])"
            ]
          },
          "metadata": {},
          "execution_count": 23
        }
      ]
    },
    {
      "cell_type": "markdown",
      "source": [
        "**Slicing with steps**"
      ],
      "metadata": {
        "id": "awvPa-siC_W7"
      }
    },
    {
      "cell_type": "code",
      "source": [
        "# Print the Sudoku grid\n",
        "print(sudoku_game)\n",
        "\n",
        "\n",
        "# slicing with steps\n",
        "sudoku_game[3:6:2, 3:6:2]"
      ],
      "metadata": {
        "colab": {
          "base_uri": "https://localhost:8080/"
        },
        "id": "WQ5fEMsyBeJ4",
        "outputId": "f0496d17-372a-4fec-92d3-625fd9976c65"
      },
      "execution_count": 24,
      "outputs": [
        {
          "output_type": "stream",
          "name": "stdout",
          "text": [
            "[[ 0  5  0  8  0  0  0  3  0]\n",
            " [ 0  0  9  0  0  0  0  0  0]\n",
            " [ 0 11  0  0  0  0  0  3  0]\n",
            " [ 0  0  0  0  0  0  0  0  0]\n",
            " [ 0  0  0  0  0  0  0  0  0]\n",
            " [ 0  0  3  0  0  0  0  0  0]\n",
            " [ 0  0  0  0  0  0  0  0  0]\n",
            " [ 0  0  0  0  0  0  0  0  0]\n",
            " [ 0  0  0  0  0  0  0  0  0]]\n"
          ]
        },
        {
          "output_type": "execute_result",
          "data": {
            "text/plain": [
              "array([[0, 0],\n",
              "       [0, 0]])"
            ]
          },
          "metadata": {},
          "execution_count": 24
        }
      ]
    },
    {
      "cell_type": "markdown",
      "source": [
        "**Sorting arrays**\n",
        "\n",
        "The np.sort() function sorts an arrya along a given axis\n",
        "\n",
        "* default sort by column"
      ],
      "metadata": {
        "id": "iaLFEIFKGNFa"
      }
    },
    {
      "cell_type": "code",
      "source": [
        "np.sort(sudoku_game)"
      ],
      "metadata": {
        "colab": {
          "base_uri": "https://localhost:8080/"
        },
        "id": "31pcbCzVDyr2",
        "outputId": "e6ecd256-294c-4411-be23-24299bbd7b4d"
      },
      "execution_count": 26,
      "outputs": [
        {
          "output_type": "execute_result",
          "data": {
            "text/plain": [
              "array([[ 0,  0,  0,  0,  0,  0,  3,  5,  8],\n",
              "       [ 0,  0,  0,  0,  0,  0,  0,  0,  9],\n",
              "       [ 0,  0,  0,  0,  0,  0,  0,  3, 11],\n",
              "       [ 0,  0,  0,  0,  0,  0,  0,  0,  0],\n",
              "       [ 0,  0,  0,  0,  0,  0,  0,  0,  0],\n",
              "       [ 0,  0,  0,  0,  0,  0,  0,  0,  3],\n",
              "       [ 0,  0,  0,  0,  0,  0,  0,  0,  0],\n",
              "       [ 0,  0,  0,  0,  0,  0,  0,  0,  0],\n",
              "       [ 0,  0,  0,  0,  0,  0,  0,  0,  0]])"
            ]
          },
          "metadata": {},
          "execution_count": 26
        }
      ]
    },
    {
      "cell_type": "markdown",
      "source": [
        "* to sort the array by row, set the axix keyword arguement to zero"
      ],
      "metadata": {
        "id": "I1afzAEtH_ZK"
      }
    },
    {
      "cell_type": "code",
      "source": [
        "print(sudoku_game)\n",
        "np.sort(sudoku_game, axis = 0)"
      ],
      "metadata": {
        "colab": {
          "base_uri": "https://localhost:8080/"
        },
        "id": "jFkxZRhKGYtB",
        "outputId": "e5c0171d-c191-4e6c-b8a9-8c53437da845"
      },
      "execution_count": 28,
      "outputs": [
        {
          "output_type": "stream",
          "name": "stdout",
          "text": [
            "[[ 0  5  0  8  0  0  0  3  0]\n",
            " [ 0  0  9  0  0  0  0  0  0]\n",
            " [ 0 11  0  0  0  0  0  3  0]\n",
            " [ 0  0  0  0  0  0  0  0  0]\n",
            " [ 0  0  0  0  0  0  0  0  0]\n",
            " [ 0  0  3  0  0  0  0  0  0]\n",
            " [ 0  0  0  0  0  0  0  0  0]\n",
            " [ 0  0  0  0  0  0  0  0  0]\n",
            " [ 0  0  0  0  0  0  0  0  0]]\n"
          ]
        },
        {
          "output_type": "execute_result",
          "data": {
            "text/plain": [
              "array([[ 0,  0,  0,  0,  0,  0,  0,  0,  0],\n",
              "       [ 0,  0,  0,  0,  0,  0,  0,  0,  0],\n",
              "       [ 0,  0,  0,  0,  0,  0,  0,  0,  0],\n",
              "       [ 0,  0,  0,  0,  0,  0,  0,  0,  0],\n",
              "       [ 0,  0,  0,  0,  0,  0,  0,  0,  0],\n",
              "       [ 0,  0,  0,  0,  0,  0,  0,  0,  0],\n",
              "       [ 0,  0,  0,  0,  0,  0,  0,  0,  0],\n",
              "       [ 0,  5,  3,  0,  0,  0,  0,  3,  0],\n",
              "       [ 0, 11,  9,  8,  0,  0,  0,  3,  0]])"
            ]
          },
          "metadata": {},
          "execution_count": 28
        }
      ]
    },
    {
      "cell_type": "code",
      "source": [],
      "metadata": {
        "id": "zomI0YUiIKVR"
      },
      "execution_count": null,
      "outputs": []
    }
  ]
}