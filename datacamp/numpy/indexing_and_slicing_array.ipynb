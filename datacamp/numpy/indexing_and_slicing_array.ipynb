{
  "cells": [
    {
      "cell_type": "code",
      "execution_count": 4,
      "metadata": {
        "id": "4Xi4Oi7i7L74"
      },
      "outputs": [],
      "source": [
        "import numpy as np"
      ]
    },
    {
      "cell_type": "markdown",
      "metadata": {
        "id": "c0LS9wrT686V"
      },
      "source": [
        "**Indexing 1D arrays**"
      ]
    },
    {
      "cell_type": "code",
      "execution_count": 5,
      "metadata": {
        "colab": {
          "base_uri": "https://localhost:8080/"
        },
        "id": "v8b2N4j26nDX",
        "outputId": "c53f887b-5885-4e88-ad8f-b32f8e07a25a"
      },
      "outputs": [
        {
          "data": {
            "text/plain": [
              "8"
            ]
          },
          "execution_count": 5,
          "metadata": {},
          "output_type": "execute_result"
        }
      ],
      "source": [
        "array = np.array([2,4,6,8,10])\n",
        "array[3]"
      ]
    },
    {
      "cell_type": "markdown",
      "metadata": {
        "id": "CZIpYJEp8-lS"
      },
      "source": [
        "**Indexing elements in 2D**\n"
      ]
    },
    {
      "cell_type": "code",
      "execution_count": 7,
      "metadata": {
        "colab": {
          "base_uri": "https://localhost:8080/"
        },
        "id": "ibbrqIAN9B3Q",
        "outputId": "5c99d67d-4f82-4822-c583-b1bed86b5f4a"
      },
      "outputs": [
        {
          "name": "stdout",
          "output_type": "stream",
          "text": [
            "[[0 5 0 0 0 0 0 3 0]\n",
            " [0 0 9 0 0 0 0 0 0]\n",
            " [0 0 0 0 0 0 0 0 0]\n",
            " [0 0 0 0 0 0 0 0 0]\n",
            " [0 0 0 0 0 0 0 0 0]\n",
            " [0 0 0 0 0 0 0 0 0]\n",
            " [0 0 0 0 0 0 0 0 0]\n",
            " [0 0 0 0 0 0 0 0 0]\n",
            " [0 0 0 0 0 0 0 0 0]]\n"
          ]
        },
        {
          "data": {
            "text/plain": [
              "9"
            ]
          },
          "execution_count": 7,
          "metadata": {},
          "output_type": "execute_result"
        }
      ],
      "source": [
        "\n",
        "# Create an empty Sudoku grid\n",
        "sudoku_game = np.zeros((9, 9), dtype=int)\n",
        "\n",
        "# Fill in some initial values (example)\n",
        "sudoku_game[0, 1] = 5\n",
        "sudoku_game[0, 7] = 3\n",
        "sudoku_game[1, 2] = 9\n",
        "# Fill in more values as needed...\n",
        "\n",
        "# Print the Sudoku grid\n",
        "print(sudoku_game)\n",
        "\n",
        "\n",
        "# indexing elements in 2D\n",
        "sudoku_game[1,2]\n"
      ]
    },
    {
      "cell_type": "markdown",
      "metadata": {
        "id": "WmxxyL9W-bGE"
      },
      "source": [
        "**Indexing rows in 2D**\n",
        "\n",
        "If we give NumPy just one index when indexing a 2D array, it assumes that the index is a row index"
      ]
    },
    {
      "cell_type": "code",
      "execution_count": 9,
      "metadata": {
        "colab": {
          "base_uri": "https://localhost:8080/"
        },
        "id": "FbrJSjQB9we4",
        "outputId": "e8b2c7eb-39c6-40a3-af8c-b5917de7cfdf"
      },
      "outputs": [
        {
          "data": {
            "text/plain": [
              "array([0, 0, 9, 0, 0, 0, 0, 0, 0])"
            ]
          },
          "execution_count": 9,
          "metadata": {},
          "output_type": "execute_result"
        }
      ],
      "source": [
        "sudoku_game[1]"
      ]
    },
    {
      "cell_type": "markdown",
      "metadata": {
        "id": "adgN4eA_-xiD"
      },
      "source": [
        "**Indexing columns in 2D**"
      ]
    },
    {
      "cell_type": "code",
      "execution_count": 11,
      "metadata": {
        "colab": {
          "base_uri": "https://localhost:8080/"
        },
        "id": "15N_72Vh-jYF",
        "outputId": "81e6aaee-a471-4c88-b350-4c2f8e359a91"
      },
      "outputs": [
        {
          "data": {
            "text/plain": [
              "array([5, 0, 0, 0, 0, 0, 0, 0, 0])"
            ]
          },
          "execution_count": 11,
          "metadata": {},
          "output_type": "execute_result"
        }
      ],
      "source": [
        "sudoku_game[:,1]"
      ]
    },
    {
      "cell_type": "markdown",
      "metadata": {
        "id": "unBqIr8M_fSP"
      },
      "source": [
        "**Slicing 1D array**"
      ]
    },
    {
      "cell_type": "code",
      "execution_count": 12,
      "metadata": {
        "colab": {
          "base_uri": "https://localhost:8080/"
        },
        "id": "RJVSkj27-6Fa",
        "outputId": "2a8ec1b7-e6fd-42b5-dc0c-79f7dbb22d5d"
      },
      "outputs": [
        {
          "data": {
            "text/plain": [
              "array([5, 8])"
            ]
          },
          "execution_count": 12,
          "metadata": {},
          "output_type": "execute_result"
        }
      ],
      "source": [
        "array = np.array([2,4,5,8,10])\n",
        "array[2:4]"
      ]
    },
    {
      "cell_type": "markdown",
      "metadata": {
        "id": "LxPGSLwYBRS6"
      },
      "source": [
        "**Slicing elements in 2D**"
      ]
    },
    {
      "cell_type": "code",
      "execution_count": 23,
      "metadata": {
        "colab": {
          "base_uri": "https://localhost:8080/"
        },
        "id": "S59sfeBg_nT-",
        "outputId": "cddcb7b3-15f9-4ef7-b1cc-ad3d96bb7bc1"
      },
      "outputs": [
        {
          "name": "stdout",
          "output_type": "stream",
          "text": [
            "[[ 0  5  0  8  0  0  0  3  0]\n",
            " [ 0  0  9  0  0  0  0  0  0]\n",
            " [ 0 11  0  0  0  0  0  3  0]\n",
            " [ 0  0  0  0  0  0  0  0  0]\n",
            " [ 0  0  0  0  0  0  0  0  0]\n",
            " [ 0  0  3  0  0  0  0  0  0]\n",
            " [ 0  0  0  0  0  0  0  0  0]\n",
            " [ 0  0  0  0  0  0  0  0  0]\n",
            " [ 0  0  0  0  0  0  0  0  0]]\n"
          ]
        },
        {
          "data": {
            "text/plain": [
              "array([[ 0,  5,  0],\n",
              "       [ 0,  0,  9],\n",
              "       [ 0, 11,  0]])"
            ]
          },
          "execution_count": 23,
          "metadata": {},
          "output_type": "execute_result"
        }
      ],
      "source": [
        "\n",
        "# Create an empty Sudoku grid\n",
        "sudoku_game = np.zeros((9, 9), dtype=int)\n",
        "\n",
        "# Fill in some initial values (example)\n",
        "sudoku_game[0, 1] = 5\n",
        "sudoku_game[0, 7] = 3\n",
        "sudoku_game[1, 2] = 9\n",
        "sudoku_game[0, 3] = 8\n",
        "sudoku_game[2, 7] = 9\n",
        "sudoku_game[5, 2] = 3\n",
        "sudoku_game[2, 1] = 11\n",
        "sudoku_game[2, 7] = 3\n",
        "sudoku_game[1, 2] = 9\n",
        "# Fill in more values as needed...\n",
        "\n",
        "# Print the Sudoku grid\n",
        "print(sudoku_game)\n",
        "\n",
        "\n",
        "# slicing elements in 2D\n",
        "sudoku_game[0:3, 0:3]"
      ]
    },
    {
      "cell_type": "markdown",
      "metadata": {
        "id": "awvPa-siC_W7"
      },
      "source": [
        "**Slicing with steps**"
      ]
    },
    {
      "cell_type": "code",
      "execution_count": 24,
      "metadata": {
        "colab": {
          "base_uri": "https://localhost:8080/"
        },
        "id": "WQ5fEMsyBeJ4",
        "outputId": "f0496d17-372a-4fec-92d3-625fd9976c65"
      },
      "outputs": [
        {
          "name": "stdout",
          "output_type": "stream",
          "text": [
            "[[ 0  5  0  8  0  0  0  3  0]\n",
            " [ 0  0  9  0  0  0  0  0  0]\n",
            " [ 0 11  0  0  0  0  0  3  0]\n",
            " [ 0  0  0  0  0  0  0  0  0]\n",
            " [ 0  0  0  0  0  0  0  0  0]\n",
            " [ 0  0  3  0  0  0  0  0  0]\n",
            " [ 0  0  0  0  0  0  0  0  0]\n",
            " [ 0  0  0  0  0  0  0  0  0]\n",
            " [ 0  0  0  0  0  0  0  0  0]]\n"
          ]
        },
        {
          "data": {
            "text/plain": [
              "array([[0, 0],\n",
              "       [0, 0]])"
            ]
          },
          "execution_count": 24,
          "metadata": {},
          "output_type": "execute_result"
        }
      ],
      "source": [
        "# Print the Sudoku grid\n",
        "print(sudoku_game)\n",
        "\n",
        "\n",
        "# slicing with steps\n",
        "sudoku_game[3:6:2, 3:6:2]"
      ]
    },
    {
      "cell_type": "markdown",
      "metadata": {
        "id": "iaLFEIFKGNFa"
      },
      "source": [
        "**Sorting arrays**\n",
        "\n",
        "The np.sort() function sorts an arrya along a given axis\n",
        "\n",
        "* default sort by column"
      ]
    },
    {
      "cell_type": "code",
      "execution_count": 26,
      "metadata": {
        "colab": {
          "base_uri": "https://localhost:8080/"
        },
        "id": "31pcbCzVDyr2",
        "outputId": "e6ecd256-294c-4411-be23-24299bbd7b4d"
      },
      "outputs": [
        {
          "data": {
            "text/plain": [
              "array([[ 0,  0,  0,  0,  0,  0,  3,  5,  8],\n",
              "       [ 0,  0,  0,  0,  0,  0,  0,  0,  9],\n",
              "       [ 0,  0,  0,  0,  0,  0,  0,  3, 11],\n",
              "       [ 0,  0,  0,  0,  0,  0,  0,  0,  0],\n",
              "       [ 0,  0,  0,  0,  0,  0,  0,  0,  0],\n",
              "       [ 0,  0,  0,  0,  0,  0,  0,  0,  3],\n",
              "       [ 0,  0,  0,  0,  0,  0,  0,  0,  0],\n",
              "       [ 0,  0,  0,  0,  0,  0,  0,  0,  0],\n",
              "       [ 0,  0,  0,  0,  0,  0,  0,  0,  0]])"
            ]
          },
          "execution_count": 26,
          "metadata": {},
          "output_type": "execute_result"
        }
      ],
      "source": [
        "np.sort(sudoku_game)"
      ]
    },
    {
      "cell_type": "markdown",
      "metadata": {
        "id": "I1afzAEtH_ZK"
      },
      "source": [
        "* to sort the array by row, set the axix keyword arguement to zero"
      ]
    },
    {
      "cell_type": "code",
      "execution_count": 28,
      "metadata": {
        "colab": {
          "base_uri": "https://localhost:8080/"
        },
        "id": "jFkxZRhKGYtB",
        "outputId": "e5c0171d-c191-4e6c-b8a9-8c53437da845"
      },
      "outputs": [
        {
          "name": "stdout",
          "output_type": "stream",
          "text": [
            "[[ 0  5  0  8  0  0  0  3  0]\n",
            " [ 0  0  9  0  0  0  0  0  0]\n",
            " [ 0 11  0  0  0  0  0  3  0]\n",
            " [ 0  0  0  0  0  0  0  0  0]\n",
            " [ 0  0  0  0  0  0  0  0  0]\n",
            " [ 0  0  3  0  0  0  0  0  0]\n",
            " [ 0  0  0  0  0  0  0  0  0]\n",
            " [ 0  0  0  0  0  0  0  0  0]\n",
            " [ 0  0  0  0  0  0  0  0  0]]\n"
          ]
        },
        {
          "data": {
            "text/plain": [
              "array([[ 0,  0,  0,  0,  0,  0,  0,  0,  0],\n",
              "       [ 0,  0,  0,  0,  0,  0,  0,  0,  0],\n",
              "       [ 0,  0,  0,  0,  0,  0,  0,  0,  0],\n",
              "       [ 0,  0,  0,  0,  0,  0,  0,  0,  0],\n",
              "       [ 0,  0,  0,  0,  0,  0,  0,  0,  0],\n",
              "       [ 0,  0,  0,  0,  0,  0,  0,  0,  0],\n",
              "       [ 0,  0,  0,  0,  0,  0,  0,  0,  0],\n",
              "       [ 0,  5,  3,  0,  0,  0,  0,  3,  0],\n",
              "       [ 0, 11,  9,  8,  0,  0,  0,  3,  0]])"
            ]
          },
          "execution_count": 28,
          "metadata": {},
          "output_type": "execute_result"
        }
      ],
      "source": [
        "print(sudoku_game)\n",
        "np.sort(sudoku_game, axis = 0)"
      ]
    },
    {
      "cell_type": "code",
      "execution_count": null,
      "metadata": {
        "id": "zomI0YUiIKVR"
      },
      "outputs": [],
      "source": []
    }
  ],
  "metadata": {
    "colab": {
      "provenance": []
    },
    "kernelspec": {
      "display_name": "Python 3",
      "name": "python3"
    },
    "language_info": {
      "name": "python"
    }
  },
  "nbformat": 4,
  "nbformat_minor": 0
}
