{
  "nbformat": 4,
  "nbformat_minor": 0,
  "metadata": {
    "colab": {
      "provenance": [],
      "authorship_tag": "ABX9TyMP0+HUFbQWlrYvzyRhX/0k",
      "include_colab_link": true
    },
    "kernelspec": {
      "name": "python3",
      "display_name": "Python 3"
    },
    "language_info": {
      "name": "python"
    }
  },
  "cells": [
    {
      "cell_type": "markdown",
      "metadata": {
        "id": "view-in-github",
        "colab_type": "text"
      },
      "source": [
        "<a href=\"https://colab.research.google.com/github/iamisha/Python-Project-2024/blob/branch-test-2/datacamp/numpy/saving_and_loading_arrays.ipynb\" target=\"_parent\"><img src=\"https://colab.research.google.com/assets/colab-badge.svg\" alt=\"Open In Colab\"/></a>"
      ]
    },
    {
      "cell_type": "code",
      "source": [
        "import numpy as np\n",
        "import matplotlib.pyplot as plt"
      ],
      "metadata": {
        "id": "41430vMjJM31"
      },
      "execution_count": 5,
      "outputs": []
    },
    {
      "cell_type": "markdown",
      "source": [
        "**RGB arrays**"
      ],
      "metadata": {
        "id": "yNPipjTaJLZ3"
      }
    },
    {
      "cell_type": "code",
      "execution_count": 6,
      "metadata": {
        "id": "kr--9JoKG7Uk",
        "colab": {
          "base_uri": "https://localhost:8080/",
          "height": 435
        },
        "outputId": "665aab6e-668a-425c-beb7-ab40722e0b1c"
      },
      "outputs": [
        {
          "output_type": "display_data",
          "data": {
            "text/plain": [
              "<Figure size 640x480 with 1 Axes>"
            ],
            "image/png": "[encoded data removed]"
          },
          "metadata": {}
        }
      ],
      "source": [
        "rgb = np.array([[[255, 0, 0], [255, 0, 0], [255, 0, 0]],\n",
        "                [[0,255,0], [0,255,0], [0,255,0]],\n",
        "                [[0,0,255], [0,0,255], [0,0,255]]])\n",
        "\n",
        "plt.imshow(rgb)\n",
        "plt.show()"
      ]
    },
    {
      "cell_type": "markdown",
      "source": [
        "**Loading .npy files**\n",
        "\n",
        "Save arrays in many formats\n",
        "\n",
        "* .csv\n",
        "* .txt\n",
        "* .pkl\n",
        "* npy\n"
      ],
      "metadata": {
        "id": "Ag3NY8uuX14k"
      }
    },
    {
      "cell_type": "code",
      "source": [
        "with open(\"logo.npy\", \"rb\") as f:\n",
        "  logo_rgb_array = np.load(f)\n",
        "\n",
        "plt.imshow(logo_rgb_array)\n",
        "plt.show()"
      ],
      "metadata": {
        "id": "R-vX5AyYYSxr"
      },
      "execution_count": null,
      "outputs": []
    },
    {
      "cell_type": "markdown",
      "source": [
        "**Examining RGB data**"
      ],
      "metadata": {
        "id": "68RZQShQY0BY"
      }
    },
    {
      "cell_type": "code",
      "source": [
        "red_array = rgb[:, :, 0]\n",
        "blue_array = rgb[:, :, 1]\n",
        "green_array = rgb[:, :, 2]"
      ],
      "metadata": {
        "id": "caazABYSY7XA"
      },
      "execution_count": 9,
      "outputs": []
    },
    {
      "cell_type": "markdown",
      "source": [
        "**Array acrobatics**"
      ],
      "metadata": {
        "id": "6d1Uqk3tdUfp"
      }
    },
    {
      "cell_type": "markdown",
      "source": [
        "*Data augmentation*\n",
        "\n",
        "data augmentation is the process of adding additional data by performing small manipulations on data that is already available"
      ],
      "metadata": {
        "id": "tLUYql0-dpsY"
      }
    },
    {
      "cell_type": "markdown",
      "source": [
        "*Flipping an array*\n",
        "\n",
        "*   np.flip() flip array elements along every axis\n"
      ],
      "metadata": {
        "id": "8L2X_Hz4d4QA"
      }
    },
    {
      "cell_type": "code",
      "source": [
        "flipped_log = np.flip(logo_rgb_array)\n",
        "plt.imshow(flipped_logo)\n",
        "plt.show()"
      ],
      "metadata": {
        "id": "GPM2fX6FZrmB"
      },
      "execution_count": null,
      "outputs": []
    },
    {
      "cell_type": "markdown",
      "source": [
        "**Flipping along an axis**"
      ],
      "metadata": {
        "id": "jaUZcvbJe2F-"
      }
    },
    {
      "cell_type": "code",
      "source": [
        "flipped_log = np.flip(logo_rgb_array, axis = 0)\n",
        "plt.imshow(flipped_logo)\n",
        "plt.show()"
      ],
      "metadata": {
        "id": "y6M2bE3zeXed"
      },
      "execution_count": null,
      "outputs": []
    },
    {
      "cell_type": "markdown",
      "source": [
        "We can flip only the RGB values by specifying the third axis, at index two"
      ],
      "metadata": {
        "id": "kgwaFbGGe82J"
      }
    },
    {
      "cell_type": "code",
      "source": [
        "flipped_log = np.flip(logo_rgb_array, axis = 2)\n",
        "plt.imshow(flipped_logo)\n",
        "plt.show()"
      ],
      "metadata": {
        "id": "2SDYaIrUfIoM"
      },
      "execution_count": null,
      "outputs": []
    },
    {
      "cell_type": "markdown",
      "source": [
        "**Flipping multiple axes**"
      ],
      "metadata": {
        "id": "BPKr3KiMfSpi"
      }
    },
    {
      "cell_type": "code",
      "source": [
        "flipped_log = np.flip(logo_rgb_array, axis = (0,1))\n",
        "plt.imshow(flipped_logo)\n",
        "plt.show()"
      ],
      "metadata": {
        "id": "kmBihkGrfKZd"
      },
      "execution_count": null,
      "outputs": []
    },
    {
      "cell_type": "markdown",
      "source": [
        "**Transposing an array**"
      ],
      "metadata": {
        "id": "h6ohcN5rfnRt"
      }
    },
    {
      "cell_type": "code",
      "source": [
        "array = np.array([[1.1, 1.2, 1.3],\n",
        "                  [2.1, 2.2, 2.3],\n",
        "                  [3.1, 3.2, 3.3],\n",
        "                  [4.1, 4.2, 4.3]])"
      ],
      "metadata": {
        "id": "ZU8IIxYgfpn1"
      },
      "execution_count": 13,
      "outputs": []
    },
    {
      "cell_type": "code",
      "source": [
        "np.flip(array)"
      ],
      "metadata": {
        "colab": {
          "base_uri": "https://localhost:8080/"
        },
        "id": "VLQY4cqcf1l5",
        "outputId": "6a06931b-8514-479b-f61a-70b1459c9126"
      },
      "execution_count": 14,
      "outputs": [
        {
          "output_type": "execute_result",
          "data": {
            "text/plain": [
              "array([[4.3, 4.2, 4.1],\n",
              "       [3.3, 3.2, 3.1],\n",
              "       [2.3, 2.2, 2.1],\n",
              "       [1.3, 1.2, 1.1]])"
            ]
          },
          "metadata": {},
          "execution_count": 14
        }
      ]
    },
    {
      "cell_type": "code",
      "source": [
        "np.transpose(array)"
      ],
      "metadata": {
        "colab": {
          "base_uri": "https://localhost:8080/"
        },
        "id": "2pI-inOVf4T2",
        "outputId": "efb30798-6267-4245-c505-1857a4cf5308"
      },
      "execution_count": 15,
      "outputs": [
        {
          "output_type": "execute_result",
          "data": {
            "text/plain": [
              "array([[1.1, 2.1, 3.1, 4.1],\n",
              "       [1.2, 2.2, 3.2, 4.2],\n",
              "       [1.3, 2.3, 3.3, 4.3]])"
            ]
          },
          "metadata": {},
          "execution_count": 15
        }
      ]
    },
    {
      "cell_type": "markdown",
      "source": [
        "**Stacking_and_splitting**"
      ],
      "metadata": {
        "id": "dbuWAyPZhxdX"
      }
    },
    {
      "cell_type": "markdown",
      "source": [
        "*Slicing dimensions*"
      ],
      "metadata": {
        "id": "JuAuQtgYiO5X"
      }
    },
    {
      "cell_type": "code",
      "source": [
        "rgb = np.array([[[255, 0, 0], [255, 0, 0], [255, 0, 0]],\n",
        "                [[0,255,0], [0,255,0], [0,255,0]],\n",
        "                [[0,0,255], [0,0,255], [0,0,255]]])\n",
        "\n",
        "\n",
        "red_array = rgb[:, :, 0]\n",
        "blue_array = rgb[:, :, 1]\n",
        "green_array = rgb[:, :, 2]\n",
        "\n",
        "red_array"
      ],
      "metadata": {
        "colab": {
          "base_uri": "https://localhost:8080/"
        },
        "id": "LSgQpIdMf-8O",
        "outputId": "4a0df557-ecd8-4f3e-fb97-c018b31bdb26"
      },
      "execution_count": 17,
      "outputs": [
        {
          "output_type": "execute_result",
          "data": {
            "text/plain": [
              "array([[255, 255, 255],\n",
              "       [  0,   0,   0],\n",
              "       [  0,   0,   0]])"
            ]
          },
          "metadata": {},
          "execution_count": 17
        }
      ]
    },
    {
      "cell_type": "markdown",
      "source": [
        "**Splitting arrays**"
      ],
      "metadata": {
        "id": "Tvs6zMCaijwv"
      }
    },
    {
      "cell_type": "code",
      "source": [
        "red_array, green_array, blue_array = np.split(rgb, 3, axis = 2)\n",
        "red_array"
      ],
      "metadata": {
        "colab": {
          "base_uri": "https://localhost:8080/"
        },
        "id": "Xs6Iq87tiNdu",
        "outputId": "eec6e85f-e17f-426e-f852-122e17f39b61"
      },
      "execution_count": 19,
      "outputs": [
        {
          "output_type": "execute_result",
          "data": {
            "text/plain": [
              "array([[[255],\n",
              "        [255],\n",
              "        [255]],\n",
              "\n",
              "       [[  0],\n",
              "        [  0],\n",
              "        [  0]],\n",
              "\n",
              "       [[  0],\n",
              "        [  0],\n",
              "        [  0]]])"
            ]
          },
          "metadata": {},
          "execution_count": 19
        }
      ]
    },
    {
      "cell_type": "code",
      "source": [
        "red_array.shape"
      ],
      "metadata": {
        "colab": {
          "base_uri": "https://localhost:8080/"
        },
        "id": "vJ8NUGBeiqYU",
        "outputId": "26aee5d3-f683-458a-f7ab-f1ca05c99368"
      },
      "execution_count": 20,
      "outputs": [
        {
          "output_type": "execute_result",
          "data": {
            "text/plain": [
              "(3, 3, 1)"
            ]
          },
          "metadata": {},
          "execution_count": 20
        }
      ]
    },
    {
      "cell_type": "markdown",
      "source": [
        "**Trailing dimensions**"
      ],
      "metadata": {
        "id": "dM_djCdvi2zn"
      }
    },
    {
      "cell_type": "code",
      "source": [
        "red_array_2D = red_array.reshape((3,3))\n",
        "red_array_2D"
      ],
      "metadata": {
        "colab": {
          "base_uri": "https://localhost:8080/"
        },
        "id": "9UeIgNbFiwie",
        "outputId": "73dce99c-ba2e-4582-a98f-fd319f8ed397"
      },
      "execution_count": 21,
      "outputs": [
        {
          "output_type": "execute_result",
          "data": {
            "text/plain": [
              "array([[255, 255, 255],\n",
              "       [  0,   0,   0],\n",
              "       [  0,   0,   0]])"
            ]
          },
          "metadata": {},
          "execution_count": 21
        }
      ]
    },
    {
      "cell_type": "code",
      "source": [
        "red_array_2D.shape"
      ],
      "metadata": {
        "colab": {
          "base_uri": "https://localhost:8080/"
        },
        "id": "wgk_86tRi9cg",
        "outputId": "77a826cf-3f81-463f-ce75-f24734112916"
      },
      "execution_count": 22,
      "outputs": [
        {
          "output_type": "execute_result",
          "data": {
            "text/plain": [
              "(3, 3)"
            ]
          },
          "metadata": {},
          "execution_count": 22
        }
      ]
    },
    {
      "cell_type": "markdown",
      "source": [
        "**Array division rules**"
      ],
      "metadata": {
        "id": "m_86cAb6jeA3"
      }
    },
    {
      "cell_type": "code",
      "source": [
        "red_array, green_array, blue_array = np.split(rgb, 5, axis = 2)"
      ],
      "metadata": {
        "colab": {
          "base_uri": "https://localhost:8080/",
          "height": 332
        },
        "id": "hUXzaHNAjAa1",
        "outputId": "893bb501-2aa4-4c59-9bf7-2457c7498848"
      },
      "execution_count": 23,
      "outputs": [
        {
          "output_type": "error",
          "ename": "ValueError",
          "evalue": "array split does not result in an equal division",
          "traceback": [
            "\u001b[0;31m---------------------------------------------------------------------------\u001b[0m",
            "\u001b[0;31mValueError\u001b[0m                                Traceback (most recent call last)",
            "\u001b[0;32m<ipython-input-23-aa0ad1a3661f>\u001b[0m in \u001b[0;36m<cell line: 1>\u001b[0;34m()\u001b[0m\n\u001b[0;32m----> 1\u001b[0;31m \u001b[0mred_array\u001b[0m\u001b[0;34m,\u001b[0m \u001b[0mgreen_array\u001b[0m\u001b[0;34m,\u001b[0m \u001b[0mblue_array\u001b[0m \u001b[0;34m=\u001b[0m \u001b[0mnp\u001b[0m\u001b[0;34m.\u001b[0m\u001b[0msplit\u001b[0m\u001b[0;34m(\u001b[0m\u001b[0mrgb\u001b[0m\u001b[0;34m,\u001b[0m \u001b[0;36m5\u001b[0m\u001b[0;34m,\u001b[0m \u001b[0maxis\u001b[0m \u001b[0;34m=\u001b[0m \u001b[0;36m2\u001b[0m\u001b[0;34m)\u001b[0m\u001b[0;34m\u001b[0m\u001b[0;34m\u001b[0m\u001b[0m\n\u001b[0m",
            "\u001b[0;32m/usr/local/lib/python3.10/dist-packages/numpy/lib/shape_base.py\u001b[0m in \u001b[0;36msplit\u001b[0;34m(ary, indices_or_sections, axis)\u001b[0m\n\u001b[1;32m    862\u001b[0m         \u001b[0mN\u001b[0m \u001b[0;34m=\u001b[0m \u001b[0mary\u001b[0m\u001b[0;34m.\u001b[0m\u001b[0mshape\u001b[0m\u001b[0;34m[\u001b[0m\u001b[0maxis\u001b[0m\u001b[0;34m]\u001b[0m\u001b[0;34m\u001b[0m\u001b[0;34m\u001b[0m\u001b[0m\n\u001b[1;32m    863\u001b[0m         \u001b[0;32mif\u001b[0m \u001b[0mN\u001b[0m \u001b[0;34m%\u001b[0m \u001b[0msections\u001b[0m\u001b[0;34m:\u001b[0m\u001b[0;34m\u001b[0m\u001b[0;34m\u001b[0m\u001b[0m\n\u001b[0;32m--> 864\u001b[0;31m             raise ValueError(\n\u001b[0m\u001b[1;32m    865\u001b[0m                 'array split does not result in an equal division') from None\n\u001b[1;32m    866\u001b[0m     \u001b[0;32mreturn\u001b[0m \u001b[0marray_split\u001b[0m\u001b[0;34m(\u001b[0m\u001b[0mary\u001b[0m\u001b[0;34m,\u001b[0m \u001b[0mindices_or_sections\u001b[0m\u001b[0;34m,\u001b[0m \u001b[0maxis\u001b[0m\u001b[0;34m)\u001b[0m\u001b[0;34m\u001b[0m\u001b[0;34m\u001b[0m\u001b[0m\n",
            "\u001b[0;31mValueError\u001b[0m: array split does not result in an equal division"
          ]
        }
      ]
    },
    {
      "cell_type": "markdown",
      "source": [
        "**Stacking 2D arrays**"
      ],
      "metadata": {
        "id": "52q6pb4QkF4d"
      }
    },
    {
      "cell_type": "code",
      "source": [
        "red_array = np.zeros((1001, 1001)).astype(np.int32)\n",
        "green_array = green_array.reshape((1001, 1001))\n",
        "blue_array = blue_array.reshape((1001, 1001))"
      ],
      "metadata": {
        "id": "92ucMI8NkTHV"
      },
      "execution_count": null,
      "outputs": []
    }
  ]
}