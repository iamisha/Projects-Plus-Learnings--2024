{
  "nbformat": 4,
  "nbformat_minor": 0,
  "metadata": {
    "colab": {
      "private_outputs": true,
      "provenance": [],
      "authorship_tag": "ABX9TyPMVXmMJzQYYiLu1XLDZ9ET",
      "include_colab_link": true
    },
    "kernelspec": {
      "name": "python3",
      "display_name": "Python 3"
    },
    "language_info": {
      "name": "python"
    }
  },
  "cells": [
    {
      "cell_type": "markdown",
      "metadata": {
        "id": "view-in-github",
        "colab_type": "text"
      },
      "source": [
        "<a href=\"https://colab.research.google.com/github/iamisha/Python-Project-2024/blob/branch-test/rockvsmine.ipynb\" target=\"_parent\"><img src=\"https://colab.research.google.com/assets/colab-badge.svg\" alt=\"Open In Colab\"/></a>"
      ]
    },
    {
      "cell_type": "markdown",
      "source": [
        "Importing the Dependencies\n"
      ],
      "metadata": {
        "id": "B3gDbs2WQQqP"
      }
    },
    {
      "cell_type": "code",
      "execution_count": null,
      "metadata": {
        "id": "jvJuhKfgNHIr"
      },
      "outputs": [],
      "source": [
        "import numpy as np\n",
        "import pandas as pd\n",
        "from sklearn.model_selection import train_test_split\n",
        "from sklearn.linear_model import LogisticRegression\n",
        "from sklearn.metrics import accuracy_score"
      ]
    },
    {
      "cell_type": "markdown",
      "source": [
        "Data Collection and Data Processing"
      ],
      "metadata": {
        "id": "rcUEgNUuRPlx"
      }
    },
    {
      "cell_type": "code",
      "source": [
        "# loading the dataset to pandas dataframe\n",
        "sonar_data = pd.read_csv('/content/sonar data.csv',header=None)"
      ],
      "metadata": {
        "id": "VTWWxLIIQ-4e"
      },
      "execution_count": null,
      "outputs": []
    },
    {
      "cell_type": "code",
      "source": [
        "sonar_data.head()"
      ],
      "metadata": {
        "id": "UtoWn_kERw5t"
      },
      "execution_count": null,
      "outputs": []
    },
    {
      "cell_type": "code",
      "source": [],
      "metadata": {
        "id": "SsSKs5cfR2xh"
      },
      "execution_count": null,
      "outputs": []
    }
  ]
}