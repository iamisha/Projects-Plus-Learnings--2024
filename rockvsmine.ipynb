{
  "nbformat": 4,
  "nbformat_minor": 0,
  "metadata": {
    "colab": {
      "private_outputs": true,
      "provenance": [],
      "authorship_tag": "ABX9TyOCnYmsexJXueLgI6skfz0i",
      "include_colab_link": true
    },
    "kernelspec": {
      "name": "python3",
      "display_name": "Python 3"
    },
    "language_info": {
      "name": "python"
    }
  },
  "cells": [
    {
      "cell_type": "markdown",
      "metadata": {
        "id": "view-in-github",
        "colab_type": "text"
      },
      "source": [
        "<a href=\"https://colab.research.google.com/github/iamisha/Python-Project-2024/blob/branch-test/rockvsmine.ipynb\" target=\"_parent\"><img src=\"https://colab.research.google.com/assets/colab-badge.svg\" alt=\"Open In Colab\"/></a>"
      ]
    },
    {
      "cell_type": "markdown",
      "source": [
        "Importing the Dependencies\n"
      ],
      "metadata": {
        "id": "B3gDbs2WQQqP"
      }
    },
    {
      "cell_type": "code",
      "execution_count": null,
      "metadata": {
        "id": "jvJuhKfgNHIr"
      },
      "outputs": [],
      "source": [
        "import numpy as np\n",
        "import pandas as pd\n",
        "from sklearn.model_selection import train_test_split\n",
        "from sklearn.linear_model import LogisticRegression\n",
        "from sklearn.metrics import accuracy_score"
      ]
    },
    {
      "cell_type": "markdown",
      "source": [
        "Data Collection and Data Processing"
      ],
      "metadata": {
        "id": "rcUEgNUuRPlx"
      }
    },
    {
      "cell_type": "code",
      "source": [
        "# loading the dataset to pandas dataframe\n",
        "sonar_data = pd.read_csv('/content/sonar data.csv',header=None)"
      ],
      "metadata": {
        "id": "VTWWxLIIQ-4e"
      },
      "execution_count": null,
      "outputs": []
    },
    {
      "cell_type": "code",
      "source": [
        "sonar_data.head()"
      ],
      "metadata": {
        "id": "UtoWn_kERw5t"
      },
      "execution_count": null,
      "outputs": []
    },
    {
      "cell_type": "code",
      "source": [
        "# number of rows and columns\n",
        "sonar_data.shape"
      ],
      "metadata": {
        "id": "SsSKs5cfR2xh"
      },
      "execution_count": null,
      "outputs": []
    },
    {
      "cell_type": "code",
      "source": [
        "sonar_data.describe() # describe --> statistical measures of the data"
      ],
      "metadata": {
        "id": "dar4GIZsTS6L"
      },
      "execution_count": null,
      "outputs": []
    },
    {
      "cell_type": "code",
      "source": [
        "sonar_data[60].value_counts()"
      ],
      "metadata": {
        "id": "JANUEa5nTsaE"
      },
      "execution_count": null,
      "outputs": []
    },
    {
      "cell_type": "markdown",
      "source": [
        "M --> Mine\n",
        "\n",
        "R --> Rock"
      ],
      "metadata": {
        "id": "W6To7uPoUehx"
      }
    },
    {
      "cell_type": "code",
      "source": [
        "sonar_data.groupby(60).mean()"
      ],
      "metadata": {
        "id": "Dt0eDQkEUQSU"
      },
      "execution_count": null,
      "outputs": []
    },
    {
      "cell_type": "code",
      "source": [
        "# separating data and labels\n",
        "X = sonar_data.drop(columns=60,axis=1)\n",
        "Y = sonar_data[60]"
      ],
      "metadata": {
        "id": "vqn6to_dUm1b"
      },
      "execution_count": null,
      "outputs": []
    },
    {
      "cell_type": "code",
      "source": [
        "print(X)\n",
        "print(Y)"
      ],
      "metadata": {
        "id": "K6Kh62O_XVGw"
      },
      "execution_count": null,
      "outputs": []
    },
    {
      "cell_type": "markdown",
      "source": [
        "Training and Test data"
      ],
      "metadata": {
        "id": "wlx5eglfX768"
      }
    },
    {
      "cell_type": "code",
      "source": [
        "X_train, X_test, Y_train, Y_test = train_test_split(X,Y,test_size = 0.1, stratify =Y, random_state=1)"
      ],
      "metadata": {
        "id": "kptht4HhXZx2"
      },
      "execution_count": null,
      "outputs": []
    },
    {
      "cell_type": "code",
      "source": [
        "print(X.shape, X_train.shape, X_test.shape)"
      ],
      "metadata": {
        "id": "FqdKXKpmZpzG"
      },
      "execution_count": null,
      "outputs": []
    },
    {
      "cell_type": "code",
      "source": [
        "print(X_train)\n",
        "print(Y_train)"
      ],
      "metadata": {
        "id": "CbVi011iel_w"
      },
      "execution_count": null,
      "outputs": []
    },
    {
      "cell_type": "markdown",
      "source": [
        "Model Training --> Logistic Regression"
      ],
      "metadata": {
        "id": "JnlMij3waAbT"
      }
    },
    {
      "cell_type": "code",
      "source": [
        "model = LogisticRegression()"
      ],
      "metadata": {
        "id": "RkfLfMIiZxry"
      },
      "execution_count": null,
      "outputs": []
    },
    {
      "cell_type": "code",
      "source": [
        "# training the logistic Regression model with training data\n",
        "model.fit(X_train, Y_train)"
      ],
      "metadata": {
        "id": "MrdCNImbaGHY"
      },
      "execution_count": null,
      "outputs": []
    },
    {
      "cell_type": "markdown",
      "source": [
        "Model Evaluation"
      ],
      "metadata": {
        "id": "EvsoNpHjoW4p"
      }
    },
    {
      "cell_type": "code",
      "source": [
        "# accuracy on training data\n",
        "X_train_prediction = model.predict(X_train)\n",
        "training_data_accuracy = accuracy_score(X_train_prediction, Y_train)"
      ],
      "metadata": {
        "id": "Azqf5Ei4e890"
      },
      "execution_count": null,
      "outputs": []
    },
    {
      "cell_type": "code",
      "source": [
        "print('Accuracy on training data', training_data_accuracy)"
      ],
      "metadata": {
        "id": "u1M1RU4ppXtH"
      },
      "execution_count": null,
      "outputs": []
    },
    {
      "cell_type": "code",
      "source": [
        "# accuracy on testing data\n",
        "X_test_prediction = model.predict(X_test)\n",
        "testing_data_accuracy = accuracy_score(X_test_prediction, Y_test)"
      ],
      "metadata": {
        "id": "ZUPqWtokpdRf"
      },
      "execution_count": null,
      "outputs": []
    },
    {
      "cell_type": "code",
      "source": [
        "print('Accuracy on testing data', testing_data_accuracy)"
      ],
      "metadata": {
        "id": "oNAsOHpxp1V5"
      },
      "execution_count": null,
      "outputs": []
    },
    {
      "cell_type": "markdown",
      "source": [
        "Make a predictive system"
      ],
      "metadata": {
        "id": "6mlhhs0Pr5e0"
      }
    },
    {
      "cell_type": "code",
      "source": [
        "input_data = (0.0394,0.042,0.0446,0.0551,0.0597,0.1416,0.0956,0.0802,0.1618,0.2558,\t0.3078,0.3404,\t0.355,0.3951,\t0.3352,\t0.2252,\t0.2086,\t0.2248,\t0.3382,\t0.4578,\t0.6474,\t0.6708,\t0.7007,\t0.7619,\t0.7745,\t0.6767,\t0.7373,\t0.7834,\t0.9619,\t1,\t0.8086,\t0.5558,\t0.5409,\t0.4988,\t0.3108,\t0.2897,\t0.2244,\t0.096,\t0.2287,\t0.3228,\t0.3454,\t0.3882,\t0.324,\t0.0926,\t0.1173,\t0.0566,\t0.0766,\t0.0969,\t0.0588,\t0.005,\t0.0118,\t0.0146,\t0.004,\t0.0114,\t0.0032,\t0.0062,\t0.0101,\t0.0068,\t0.0053,\t0.0087)\n",
        "\n",
        "# changing the input_data to a numpy array\n",
        "input_data_as_numpy_array = np.asarray(input_data)\n",
        "\n",
        "\n",
        "# reshape the np array as we are predicting for one instance\n",
        "input_data_reshaped = input_data_as_numpy_array.reshape(1, -1)\n",
        "\n",
        "prediction = model.predict(input_data_reshaped)\n",
        "print(prediction)\n",
        "\n",
        "if (prediction[0] == 'R'):\n",
        "  print('The object is a Rock')\n",
        "else:\n",
        "  print('The object is a mine')"
      ],
      "metadata": {
        "id": "77SzDl2Tp909"
      },
      "execution_count": null,
      "outputs": []
    },
    {
      "cell_type": "code",
      "source": [],
      "metadata": {
        "id": "dcZS-HK9r_ty"
      },
      "execution_count": null,
      "outputs": []
    }
  ]
}