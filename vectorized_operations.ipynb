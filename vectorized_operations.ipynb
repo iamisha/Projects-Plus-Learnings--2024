{
  "nbformat": 4,
  "nbformat_minor": 0,
  "metadata": {
    "colab": {
      "provenance": [],
      "authorship_tag": "ABX9TyPwqERDbG1er1a2y2xAnuI1",
      "include_colab_link": true
    },
    "kernelspec": {
      "name": "python3",
      "display_name": "Python 3"
    },
    "language_info": {
      "name": "python"
    }
  },
  "cells": [
    {
      "cell_type": "markdown",
      "metadata": {
        "id": "view-in-github",
        "colab_type": "text"
      },
      "source": [
        "<a href=\"https://colab.research.google.com/github/iamisha/Python-Project-2024/blob/branch-test-2/vectorized_operations.ipynb\" target=\"_parent\"><img src=\"https://colab.research.google.com/assets/colab-badge.svg\" alt=\"Open In Colab\"/></a>"
      ]
    },
    {
      "cell_type": "code",
      "execution_count": 1,
      "metadata": {
        "id": "D5EmrUBjnmar"
      },
      "outputs": [],
      "source": [
        "import numpy as np"
      ]
    },
    {
      "cell_type": "markdown",
      "source": [
        "**Vectorized operations**"
      ],
      "metadata": {
        "id": "Fmg_yZk_7FNZ"
      }
    },
    {
      "cell_type": "code",
      "source": [
        "np.arange(1000000).sum() # It calculates the sum of all the elements (0 to 9999999)in that array."
      ],
      "metadata": {
        "colab": {
          "base_uri": "https://localhost:8080/"
        },
        "id": "yzJ_bifVoCcv",
        "outputId": "08090fc4-4ae2-4024-ffca-e536f69de413"
      },
      "execution_count": 3,
      "outputs": [
        {
          "output_type": "execute_result",
          "data": {
            "text/plain": [
              "499999500000"
            ]
          },
          "metadata": {},
          "execution_count": 3
        }
      ]
    },
    {
      "cell_type": "markdown",
      "source": [
        "**Adding 3 to each element of the array using numpy**"
      ],
      "metadata": {
        "id": "XUWa8PcWpGXv"
      }
    },
    {
      "cell_type": "code",
      "source": [
        "array = np.array([[1,2,3], [4,5,6]])\n",
        "array + 3"
      ],
      "metadata": {
        "colab": {
          "base_uri": "https://localhost:8080/"
        },
        "id": "IBBzvzK2oKJY",
        "outputId": "d5a55b28-d044-405f-e900-a89aca179392"
      },
      "execution_count": 4,
      "outputs": [
        {
          "output_type": "execute_result",
          "data": {
            "text/plain": [
              "array([[4, 5, 6],\n",
              "       [7, 8, 9]])"
            ]
          },
          "metadata": {},
          "execution_count": 4
        }
      ]
    },
    {
      "cell_type": "markdown",
      "source": [
        "**Multiplyng by a scalar**"
      ],
      "metadata": {
        "id": "olE4OGFQpbtG"
      }
    },
    {
      "cell_type": "code",
      "source": [
        "array = np.array([[1,2,3], [4,5,6]])\n",
        "array * 3"
      ],
      "metadata": {
        "colab": {
          "base_uri": "https://localhost:8080/"
        },
        "id": "EBkpqR55pN97",
        "outputId": "7e15bb03-7c73-442e-dbf7-52c4d2530bfe"
      },
      "execution_count": 5,
      "outputs": [
        {
          "output_type": "execute_result",
          "data": {
            "text/plain": [
              "array([[ 3,  6,  9],\n",
              "       [12, 15, 18]])"
            ]
          },
          "metadata": {},
          "execution_count": 5
        }
      ]
    },
    {
      "cell_type": "code",
      "source": [
        "array_a = np.array([[1,2,3], [4,5,6]])\n",
        "array_b = np.array([[2,3,4], [1,2,3]])\n",
        "array_a + array_b"
      ],
      "metadata": {
        "colab": {
          "base_uri": "https://localhost:8080/"
        },
        "id": "3iPA0Z8dpgeI",
        "outputId": "b5f48e51-d3b7-45aa-aa0c-b13a313ea2cf"
      },
      "execution_count": 6,
      "outputs": [
        {
          "output_type": "execute_result",
          "data": {
            "text/plain": [
              "array([[3, 5, 7],\n",
              "       [5, 7, 9]])"
            ]
          },
          "metadata": {},
          "execution_count": 6
        }
      ]
    },
    {
      "cell_type": "markdown",
      "source": [
        "**Multiplying two arrays together**"
      ],
      "metadata": {
        "id": "xhc8rijkqjgi"
      }
    },
    {
      "cell_type": "code",
      "source": [
        "array_a = np.array([[1,2,0], [4,5,0]])\n",
        "array_b = np.array([[0,3,4], [1,2,3]])\n",
        "array_a * array_b"
      ],
      "metadata": {
        "colab": {
          "base_uri": "https://localhost:8080/"
        },
        "id": "dIrvBmrmp10U",
        "outputId": "e5125478-ab59-440d-fb5b-4513922744be"
      },
      "execution_count": 7,
      "outputs": [
        {
          "output_type": "execute_result",
          "data": {
            "text/plain": [
              "array([[ 0,  6,  0],\n",
              "       [ 4, 10,  0]])"
            ]
          },
          "metadata": {},
          "execution_count": 7
        }
      ]
    },
    {
      "cell_type": "markdown",
      "source": [
        "**Boolean mask**"
      ],
      "metadata": {
        "id": "msnQe9u0q1E-"
      }
    },
    {
      "cell_type": "code",
      "source": [
        "array_a = np.array([[1,2,0], [4,5,0]])\n",
        "array > 2"
      ],
      "metadata": {
        "colab": {
          "base_uri": "https://localhost:8080/"
        },
        "id": "cCUIVJsBqsQu",
        "outputId": "743b36e6-425f-4467-8abd-99db65a1d754"
      },
      "execution_count": 8,
      "outputs": [
        {
          "output_type": "execute_result",
          "data": {
            "text/plain": [
              "array([[False, False,  True],\n",
              "       [ True,  True,  True]])"
            ]
          },
          "metadata": {},
          "execution_count": 8
        }
      ]
    },
    {
      "cell_type": "markdown",
      "source": [
        "**Vectorize Python code**"
      ],
      "metadata": {
        "id": "rsMoFSYVtToS"
      }
    },
    {
      "cell_type": "code",
      "source": [
        "array = np.array([\"NumPy\", \"is\", \"awesome\"])\n",
        "len(array) > 2"
      ],
      "metadata": {
        "colab": {
          "base_uri": "https://localhost:8080/"
        },
        "id": "bL2-4-iwq6oq",
        "outputId": "0f0ffc20-18bd-41e8-c491-941bf059da7c"
      },
      "execution_count": 9,
      "outputs": [
        {
          "output_type": "execute_result",
          "data": {
            "text/plain": [
              "True"
            ]
          },
          "metadata": {},
          "execution_count": 9
        }
      ]
    },
    {
      "cell_type": "code",
      "source": [
        "vectorized_len = np.vectorize(len)\n",
        "vectorized_len(array) > 2"
      ],
      "metadata": {
        "colab": {
          "base_uri": "https://localhost:8080/"
        },
        "id": "3fsfu54jtb_e",
        "outputId": "900c0436-4754-4e31-a3b0-cf7277507087"
      },
      "execution_count": 10,
      "outputs": [
        {
          "output_type": "execute_result",
          "data": {
            "text/plain": [
              "array([ True, False,  True])"
            ]
          },
          "metadata": {},
          "execution_count": 10
        }
      ]
    },
    {
      "cell_type": "markdown",
      "source": [
        "**Broadcasting**\n",
        "\n",
        "Adding a scalar to an array uses broadcasting.\n",
        "\n",
        "Broadcasting is more efficient in terms of memory and computing power"
      ],
      "metadata": {
        "id": "wqoTbNfN0q3Q"
      }
    },
    {
      "cell_type": "markdown",
      "source": [
        "*compatibility rules*\n",
        "\n",
        "* NumPy compares sets of array dimensions from right to left\n",
        "\n",
        "* Two dimensions are compatible when\n",
        "  \n",
        "  * One of them has a length of one or\n",
        "\n",
        "  * They are of equal lengths\n",
        "\n",
        "* All dimension sets must be compatible"
      ],
      "metadata": {
        "id": "ciueol7r1bP2"
      }
    },
    {
      "cell_type": "markdown",
      "source": [
        "*Broadcastable or not?*\n",
        "\n",
        "* Broadcastable shapes:\n",
        "\n",
        "  * (10,5) and (10, 1)\n",
        "  * (10,5) and (5, )\n",
        "\n",
        "* shapes which are not broadcastable\n",
        "  * (10,5) and (5,10)\n",
        "  * (10,5) and (10,)"
      ],
      "metadata": {
        "id": "MmKVpB7M2XZw"
      }
    },
    {
      "cell_type": "markdown",
      "source": [
        "*Broadcasting rows*\n"
      ],
      "metadata": {
        "id": "X2k4lI4C3JzK"
      }
    },
    {
      "cell_type": "code",
      "source": [
        "array = np.arange(10).reshape((2,5))\n",
        "array + np.array([0,1,2,3,4])"
      ],
      "metadata": {
        "colab": {
          "base_uri": "https://localhost:8080/"
        },
        "id": "GPz6ygKQth6o",
        "outputId": "7895aebd-679d-4bda-f887-3aa943cfbf6b"
      },
      "execution_count": 11,
      "outputs": [
        {
          "output_type": "execute_result",
          "data": {
            "text/plain": [
              "array([[ 0,  2,  4,  6,  8],\n",
              "       [ 5,  7,  9, 11, 13]])"
            ]
          },
          "metadata": {},
          "execution_count": 11
        }
      ]
    },
    {
      "cell_type": "markdown",
      "source": [
        "*Incompatible broadcasting*"
      ],
      "metadata": {
        "id": "ZwDtP5Up3xAI"
      }
    },
    {
      "cell_type": "code",
      "source": [
        "array = np.arange(10).reshape((2,5))\n",
        "array + np.array([0,1])"
      ],
      "metadata": {
        "colab": {
          "base_uri": "https://localhost:8080/",
          "height": 159
        },
        "id": "WOu1PZAR3XL7",
        "outputId": "24549a85-d3ed-414c-e305-79162ff62e5c"
      },
      "execution_count": 13,
      "outputs": [
        {
          "output_type": "error",
          "ename": "ValueError",
          "evalue": "operands could not be broadcast together with shapes (2,5) (2,) ",
          "traceback": [
            "\u001b[0;31m---------------------------------------------------------------------------\u001b[0m",
            "\u001b[0;31mValueError\u001b[0m                                Traceback (most recent call last)",
            "\u001b[0;32m<ipython-input-13-1d5ee57a3299>\u001b[0m in \u001b[0;36m<cell line: 2>\u001b[0;34m()\u001b[0m\n\u001b[1;32m      1\u001b[0m \u001b[0marray\u001b[0m \u001b[0;34m=\u001b[0m \u001b[0mnp\u001b[0m\u001b[0;34m.\u001b[0m\u001b[0marange\u001b[0m\u001b[0;34m(\u001b[0m\u001b[0;36m10\u001b[0m\u001b[0;34m)\u001b[0m\u001b[0;34m.\u001b[0m\u001b[0mreshape\u001b[0m\u001b[0;34m(\u001b[0m\u001b[0;34m(\u001b[0m\u001b[0;36m2\u001b[0m\u001b[0;34m,\u001b[0m\u001b[0;36m5\u001b[0m\u001b[0;34m)\u001b[0m\u001b[0;34m)\u001b[0m\u001b[0;34m\u001b[0m\u001b[0;34m\u001b[0m\u001b[0m\n\u001b[0;32m----> 2\u001b[0;31m \u001b[0marray\u001b[0m \u001b[0;34m+\u001b[0m \u001b[0mnp\u001b[0m\u001b[0;34m.\u001b[0m\u001b[0marray\u001b[0m\u001b[0;34m(\u001b[0m\u001b[0;34m[\u001b[0m\u001b[0;36m0\u001b[0m\u001b[0;34m,\u001b[0m\u001b[0;36m1\u001b[0m\u001b[0;34m]\u001b[0m\u001b[0;34m)\u001b[0m\u001b[0;34m\u001b[0m\u001b[0;34m\u001b[0m\u001b[0m\n\u001b[0m",
            "\u001b[0;31mValueError\u001b[0m: operands could not be broadcast together with shapes (2,5) (2,) "
          ]
        }
      ]
    },
    {
      "cell_type": "markdown",
      "source": [
        "*Broadcasting columns*"
      ],
      "metadata": {
        "id": "fBzfHpKg6O5n"
      }
    },
    {
      "cell_type": "code",
      "source": [
        "array = np.arange(10).reshape((2,5))\n",
        "array + np.array([0,1]).reshape(2,1)"
      ],
      "metadata": {
        "colab": {
          "base_uri": "https://localhost:8080/"
        },
        "id": "4OYc9LfK36CW",
        "outputId": "027a2fbf-d8f8-441d-b209-da88e3b5308c"
      },
      "execution_count": 14,
      "outputs": [
        {
          "output_type": "execute_result",
          "data": {
            "text/plain": [
              "array([[ 0,  1,  2,  3,  4],\n",
              "       [ 6,  7,  8,  9, 10]])"
            ]
          },
          "metadata": {},
          "execution_count": 14
        }
      ]
    },
    {
      "cell_type": "markdown",
      "source": [],
      "metadata": {
        "id": "qKl5zn5w6uU1"
      }
    },
    {
      "cell_type": "markdown",
      "source": [
        "![009.png](data:image/png;base64,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)"
      ],
      "metadata": {
        "id": "GS2CS7BKoDDl"
      }
    },
    {
      "cell_type": "code",
      "source": [],
      "metadata": {
        "id": "-tdmKgvA7DGb"
      },
      "execution_count": null,
      "outputs": []
    }
  ]
}