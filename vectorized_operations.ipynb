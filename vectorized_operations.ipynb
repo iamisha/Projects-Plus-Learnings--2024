{
  "nbformat": 4,
  "nbformat_minor": 0,
  "metadata": {
    "colab": {
      "provenance": [],
      "authorship_tag": "ABX9TyNwnrNyi3RXsNbCMAvEiBal",
      "include_colab_link": true
    },
    "kernelspec": {
      "name": "python3",
      "display_name": "Python 3"
    },
    "language_info": {
      "name": "python"
    }
  },
  "cells": [
    {
      "cell_type": "markdown",
      "metadata": {
        "id": "view-in-github",
        "colab_type": "text"
      },
      "source": [
        "<a href=\"https://colab.research.google.com/github/iamisha/Python-Project-2024/blob/branch-test-2/vectorized_operations.ipynb\" target=\"_parent\"><img src=\"https://colab.research.google.com/assets/colab-badge.svg\" alt=\"Open In Colab\"/></a>"
      ]
    },
    {
      "cell_type": "code",
      "execution_count": 1,
      "metadata": {
        "id": "D5EmrUBjnmar"
      },
      "outputs": [],
      "source": [
        "import numpy as np"
      ]
    },
    {
      "cell_type": "markdown",
      "source": [
        "**Vectorized operations**"
      ],
      "metadata": {
        "id": "GS2CS7BKoDDl"
      }
    },
    {
      "cell_type": "code",
      "source": [
        "np.arange(1000000).sum() # It calculates the sum of all the elements (0 to 9999999)in that array."
      ],
      "metadata": {
        "colab": {
          "base_uri": "https://localhost:8080/"
        },
        "id": "yzJ_bifVoCcv",
        "outputId": "08090fc4-4ae2-4024-ffca-e536f69de413"
      },
      "execution_count": 3,
      "outputs": [
        {
          "output_type": "execute_result",
          "data": {
            "text/plain": [
              "499999500000"
            ]
          },
          "metadata": {},
          "execution_count": 3
        }
      ]
    },
    {
      "cell_type": "markdown",
      "source": [
        "**Adding 3 to each element of the array using numpy**"
      ],
      "metadata": {
        "id": "XUWa8PcWpGXv"
      }
    },
    {
      "cell_type": "code",
      "source": [
        "array = np.array([[1,2,3], [4,5,6]])\n",
        "array + 3"
      ],
      "metadata": {
        "colab": {
          "base_uri": "https://localhost:8080/"
        },
        "id": "IBBzvzK2oKJY",
        "outputId": "d5a55b28-d044-405f-e900-a89aca179392"
      },
      "execution_count": 4,
      "outputs": [
        {
          "output_type": "execute_result",
          "data": {
            "text/plain": [
              "array([[4, 5, 6],\n",
              "       [7, 8, 9]])"
            ]
          },
          "metadata": {},
          "execution_count": 4
        }
      ]
    },
    {
      "cell_type": "markdown",
      "source": [
        "**Multiplyng by a scalar**"
      ],
      "metadata": {
        "id": "olE4OGFQpbtG"
      }
    },
    {
      "cell_type": "code",
      "source": [
        "array = np.array([[1,2,3], [4,5,6]])\n",
        "array * 3"
      ],
      "metadata": {
        "colab": {
          "base_uri": "https://localhost:8080/"
        },
        "id": "EBkpqR55pN97",
        "outputId": "7e15bb03-7c73-442e-dbf7-52c4d2530bfe"
      },
      "execution_count": 5,
      "outputs": [
        {
          "output_type": "execute_result",
          "data": {
            "text/plain": [
              "array([[ 3,  6,  9],\n",
              "       [12, 15, 18]])"
            ]
          },
          "metadata": {},
          "execution_count": 5
        }
      ]
    },
    {
      "cell_type": "code",
      "source": [
        "array_a = np.array([[1,2,3], [4,5,6]])\n",
        "array_b = np.array([[2,3,4], [1,2,3]])\n",
        "array_a + array_b"
      ],
      "metadata": {
        "id": "3iPA0Z8dpgeI",
        "outputId": "b5f48e51-d3b7-45aa-aa0c-b13a313ea2cf",
        "colab": {
          "base_uri": "https://localhost:8080/"
        }
      },
      "execution_count": 6,
      "outputs": [
        {
          "output_type": "execute_result",
          "data": {
            "text/plain": [
              "array([[3, 5, 7],\n",
              "       [5, 7, 9]])"
            ]
          },
          "metadata": {},
          "execution_count": 6
        }
      ]
    },
    {
      "cell_type": "markdown",
      "source": [
        "**Multiplying two arrays together**"
      ],
      "metadata": {
        "id": "xhc8rijkqjgi"
      }
    },
    {
      "cell_type": "code",
      "source": [
        "array_a = np.array([[1,2,0], [4,5,0]])\n",
        "array_b = np.array([[0,3,4], [1,2,3]])\n",
        "array_a * array_b"
      ],
      "metadata": {
        "id": "dIrvBmrmp10U",
        "outputId": "e5125478-ab59-440d-fb5b-4513922744be",
        "colab": {
          "base_uri": "https://localhost:8080/"
        }
      },
      "execution_count": 7,
      "outputs": [
        {
          "output_type": "execute_result",
          "data": {
            "text/plain": [
              "array([[ 0,  6,  0],\n",
              "       [ 4, 10,  0]])"
            ]
          },
          "metadata": {},
          "execution_count": 7
        }
      ]
    },
    {
      "cell_type": "markdown",
      "source": [
        "**Boolean mask**"
      ],
      "metadata": {
        "id": "msnQe9u0q1E-"
      }
    },
    {
      "cell_type": "code",
      "source": [
        "array_a = np.array([[1,2,0], [4,5,0]])\n",
        "array > 2"
      ],
      "metadata": {
        "id": "cCUIVJsBqsQu",
        "outputId": "743b36e6-425f-4467-8abd-99db65a1d754",
        "colab": {
          "base_uri": "https://localhost:8080/"
        }
      },
      "execution_count": 8,
      "outputs": [
        {
          "output_type": "execute_result",
          "data": {
            "text/plain": [
              "array([[False, False,  True],\n",
              "       [ True,  True,  True]])"
            ]
          },
          "metadata": {},
          "execution_count": 8
        }
      ]
    },
    {
      "cell_type": "markdown",
      "source": [
        "**Vectorize Python code**"
      ],
      "metadata": {
        "id": "rsMoFSYVtToS"
      }
    },
    {
      "cell_type": "code",
      "source": [
        "array = np.array([\"NumPy\", \"is\", \"awesome\"])\n",
        "len(array) > 2"
      ],
      "metadata": {
        "id": "bL2-4-iwq6oq",
        "outputId": "0f0ffc20-18bd-41e8-c491-941bf059da7c",
        "colab": {
          "base_uri": "https://localhost:8080/"
        }
      },
      "execution_count": 9,
      "outputs": [
        {
          "output_type": "execute_result",
          "data": {
            "text/plain": [
              "True"
            ]
          },
          "metadata": {},
          "execution_count": 9
        }
      ]
    },
    {
      "cell_type": "code",
      "source": [
        "vectorized_len = np.vectorize(len)\n",
        "vectorized_len(array) > 2"
      ],
      "metadata": {
        "id": "3fsfu54jtb_e",
        "outputId": "900c0436-4754-4e31-a3b0-cf7277507087",
        "colab": {
          "base_uri": "https://localhost:8080/"
        }
      },
      "execution_count": 10,
      "outputs": [
        {
          "output_type": "execute_result",
          "data": {
            "text/plain": [
              "array([ True, False,  True])"
            ]
          },
          "metadata": {},
          "execution_count": 10
        }
      ]
    },
    {
      "cell_type": "code",
      "source": [],
      "metadata": {
        "id": "GPz6ygKQth6o"
      },
      "execution_count": null,
      "outputs": []
    }
  ]
}